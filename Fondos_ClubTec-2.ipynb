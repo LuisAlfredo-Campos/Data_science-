{
  "cells": [
    {
      "cell_type": "markdown",
      "metadata": {
        "id": "SL7-g9nWuR38"
      },
      "source": [
        "calculo para lograr reunir fondos \n"
      ]
    },
    {
      "cell_type": "code",
      "execution_count": 13,
      "metadata": {
        "colab": {
          "base_uri": "https://localhost:8080/"
        },
        "id": "cTjzgGMov2VE",
        "outputId": "bb593353-e705-4e86-8817-9eb9e698d121"
      },
      "outputs": [
        {
          "data": {
            "text/plain": [
              "list"
            ]
          },
          "execution_count": 13,
          "metadata": {},
          "output_type": "execute_result"
        }
      ],
      "source": [
        "price = [2,1,10]   #precio de venta \n",
        "type (price)\n",
        "\n"
      ]
    },
    {
      "cell_type": "code",
      "execution_count": 14,
      "metadata": {
        "colab": {
          "base_uri": "https://localhost:8080/"
        },
        "id": "JzN4hF7GwaRE",
        "outputId": "31868549-1f5d-468f-9a9d-3e38e0c074e9"
      },
      "outputs": [
        {
          "data": {
            "text/plain": [
              "list"
            ]
          },
          "execution_count": 14,
          "metadata": {},
          "output_type": "execute_result"
        }
      ],
      "source": [
        "quantity_sold = [17,40,1]          #cantidad de venta \n",
        "type(quantity_sold)"
      ]
    },
    {
      "cell_type": "code",
      "execution_count": 15,
      "metadata": {
        "colab": {
          "base_uri": "https://localhost:8080/",
          "height": 164
        },
        "id": "yFdLhtcoxJGj",
        "outputId": "ae06f74b-e7a7-4f93-a1c0-0d0db52b4d95"
      },
      "outputs": [
        {
          "ename": "TypeError",
          "evalue": "ignored",
          "output_type": "error",
          "traceback": [
            "\u001b[0;31m---------------------------------------------------------------------------\u001b[0m",
            "\u001b[0;31mTypeError\u001b[0m                                 Traceback (most recent call last)",
            "\u001b[0;32m<ipython-input-15-e1990caf2b0f>\u001b[0m in \u001b[0;36m<module>\u001b[0;34m\u001b[0m\n\u001b[0;32m----> 1\u001b[0;31m \u001b[0mprice\u001b[0m\u001b[0;34m*\u001b[0m\u001b[0mquantity_sold\u001b[0m\u001b[0;34m\u001b[0m\u001b[0;34m\u001b[0m\u001b[0m\n\u001b[0m",
            "\u001b[0;31mTypeError\u001b[0m: can't multiply sequence by non-int of type 'list'"
          ]
        }
      ],
      "source": [
        "price*quantity_sold"
      ]
    },
    {
      "cell_type": "code",
      "execution_count": 16,
      "metadata": {
        "colab": {
          "base_uri": "https://localhost:8080/"
        },
        "id": "0U8Vo8gixZGy",
        "outputId": "5c0f185c-e20f-40df-dd64-cffc465a04eb"
      },
      "outputs": [
        {
          "data": {
            "text/plain": [
              "numpy.ndarray"
            ]
          },
          "execution_count": 16,
          "metadata": {},
          "output_type": "execute_result"
        }
      ],
      "source": [
        "import numpy as np\n",
        "price_array = np.array(price)\n",
        "quantity_sold_array = np.array(quantity_sold)\n",
        "type(price_array)"
      ]
    },
    {
      "cell_type": "code",
      "execution_count": 17,
      "metadata": {
        "colab": {
          "base_uri": "https://localhost:8080/"
        },
        "id": "ztpRfouvy4pw",
        "outputId": "d86a50d8-8833-4960-bdf7-b02978c14379"
      },
      "outputs": [
        {
          "data": {
            "text/plain": [
              "array([34, 40, 10])"
            ]
          },
          "execution_count": 17,
          "metadata": {},
          "output_type": "execute_result"
        }
      ],
      "source": [
        "price_array*quantity_sold_array #Elementwice(elemto a elemto)\n",
        "                                 "
      ]
    },
    {
      "cell_type": "code",
      "execution_count": 18,
      "metadata": {
        "id": "w_o_nmBWzGYh"
      },
      "outputs": [],
      "source": [
        "cost_array = np.array([0.25,0.50,5.00]) #Costo de produccion"
      ]
    },
    {
      "cell_type": "code",
      "execution_count": 19,
      "metadata": {
        "colab": {
          "base_uri": "https://localhost:8080/"
        },
        "id": "PBDr2Xs-0Fkg",
        "outputId": "614e39e8-18ba-4d50-de47-6f680db71174"
      },
      "outputs": [
        {
          "name": "stdout",
          "output_type": "stream",
          "text": [
            "[1.75 0.5  5.  ]\n"
          ]
        }
      ],
      "source": [
        "profit_array = price_array-cost_array #ganancia en cada producto\n",
        "type(profit_array)\n",
        "print(profit_array)"
      ]
    },
    {
      "cell_type": "code",
      "execution_count": 20,
      "metadata": {
        "colab": {
          "base_uri": "https://localhost:8080/"
        },
        "id": "AtQeEtoG0y_k",
        "outputId": "12fd369b-05bb-479d-9abf-07336c81e949"
      },
      "outputs": [
        {
          "data": {
            "text/plain": [
              "array([False, False,  True])"
            ]
          },
          "execution_count": 20,
          "metadata": {},
          "output_type": "execute_result"
        }
      ],
      "source": [
        "profit_array > 2 #booleano para identificar en que producto obtuvimos mas de 2 de ganancia "
      ]
    },
    {
      "cell_type": "code",
      "execution_count": 21,
      "metadata": {
        "colab": {
          "base_uri": "https://localhost:8080/"
        },
        "id": "qw7IWiZz1dog",
        "outputId": "d799e55f-cc09-4dd8-d947-ae6a7a064ccb"
      },
      "outputs": [
        {
          "name": "stdout",
          "output_type": "stream",
          "text": [
            "[ 9  8 17]\n"
          ]
        }
      ],
      "source": [
        "price_array = price_array +[7]\n",
        "print(price_array)"
      ]
    },
    {
      "cell_type": "code",
      "execution_count": 22,
      "metadata": {
        "colab": {
          "base_uri": "https://localhost:8080/"
        },
        "id": "tUEiJ4lg-F55",
        "outputId": "570f2671-2952-453e-db7c-74ccbf5d237e"
      },
      "outputs": [
        {
          "name": "stdout",
          "output_type": "stream",
          "text": [
            "[ 2  1 10  7]\n"
          ]
        }
      ],
      "source": [
        "price_array = price_array - [7] #reparando el error ateriror \n",
        "price_array = np.append(price_array,7)\n",
        "print(price_array)"
      ]
    },
    {
      "cell_type": "code",
      "execution_count": 23,
      "metadata": {
        "colab": {
          "base_uri": "https://localhost:8080/"
        },
        "id": "7EcVLUel_wIV",
        "outputId": "f33dff4f-de9f-452d-af0c-7eed66487a60"
      },
      "outputs": [
        {
          "name": "stdout",
          "output_type": "stream",
          "text": [
            "[ 2.   1.  10.   7.   4.5  3.   4.   9. ]\n"
          ]
        }
      ],
      "source": [
        "price_array = np.append(price_array ,[4.50,3,4,9])\n",
        "print(price_array)"
      ]
    },
    {
      "cell_type": "code",
      "execution_count": 24,
      "metadata": {
        "colab": {
          "base_uri": "https://localhost:8080/"
        },
        "id": "kvjusizOAHUN",
        "outputId": "30255499-6b13-4e21-a601-ea4b8bbddf7f"
      },
      "outputs": [
        {
          "name": "stdout",
          "output_type": "stream",
          "text": [
            "float64\n"
          ]
        }
      ],
      "source": [
        "print(price_array.dtype)\n"
      ]
    },
    {
      "cell_type": "code",
      "execution_count": 25,
      "metadata": {
        "colab": {
          "base_uri": "https://localhost:8080/"
        },
        "id": "7O8ybC8lATh1",
        "outputId": "058de670-3eb4-48aa-f87a-1a1c5c1cd05d"
      },
      "outputs": [
        {
          "name": "stdout",
          "output_type": "stream",
          "text": [
            "[ 2.   1.  10.   7.   4.5  3.   4. ]\n"
          ]
        }
      ],
      "source": [
        "price_array = np.delete(price_array,-1)\n",
        "print(price_array)"
      ]
    },
    {
      "cell_type": "code",
      "execution_count": 26,
      "metadata": {
        "colab": {
          "base_uri": "https://localhost:8080/"
        },
        "id": "HvWYIrlIA3fC",
        "outputId": "3a19291e-1b72-437f-cbcc-804ccfb14806"
      },
      "outputs": [
        {
          "name": "stdout",
          "output_type": "stream",
          "text": [
            "[ 2.   1.  12.   7.   4.5  3.   4. ]\n"
          ]
        }
      ],
      "source": [
        "price_array[2] = 12\n",
        "print(price_array)"
      ]
    },
    {
      "cell_type": "markdown",
      "metadata": {
        "id": "nftpkIT1EgN1"
      },
      "source": [
        "Ejercicio Numpy de panaderia(core)"
      ]
    },
    {
      "cell_type": "code",
      "execution_count": 27,
      "metadata": {
        "colab": {
          "base_uri": "https://localhost:8080/"
        },
        "id": "svS13qyuBl4U",
        "outputId": "1be7c299-0434-4188-e6a6-b923899dc89f"
      },
      "outputs": [
        {
          "name": "stdout",
          "output_type": "stream",
          "text": [
            "[17 39  1  2  3 16  5]\n"
          ]
        }
      ],
      "source": [
        "quantity_sold_array = np.append(quantity_sold_array, [2,3,16,5])    #2 tartas,3bandejas ,16masgalenas ,5 panes                        \n",
        "quantity_sold_array[1] = 39 #se rompio una galleta \n",
        "print(quantity_sold_array)                                                  "
      ]
    },
    {
      "cell_type": "markdown",
      "metadata": {
        "id": "5tBWNPx1FBdl"
      },
      "source": [
        "***Determinar la cantidad de dinero recaudado de la venta de cada elemto en la venta de la panaderia ***"
      ]
    },
    {
      "cell_type": "code",
      "execution_count": 28,
      "metadata": {
        "colab": {
          "base_uri": "https://localhost:8080/"
        },
        "id": "xyXcGZm4FZdm",
        "outputId": "2a968ccc-e0ea-4b12-ca38-7f3267c59b0f"
      },
      "outputs": [
        {
          "name": "stdout",
          "output_type": "stream",
          "text": [
            "[34.  39.  12.  14.  13.5 48.  20. ]\n"
          ]
        }
      ],
      "source": [
        "\n",
        "sold_array = price_array*quantity_sold_array\n",
        "print(sold_array)"
      ]
    },
    {
      "cell_type": "markdown",
      "metadata": {
        "id": "U-y_SsBKIdTT"
      },
      "source": [
        "elemetos restantes al final de la venta "
      ]
    },
    {
      "cell_type": "code",
      "execution_count": 29,
      "metadata": {
        "colab": {
          "base_uri": "https://localhost:8080/"
        },
        "id": "3HnhiwM2H9sT",
        "outputId": "61e36e35-38f5-40a7-c857-923a94c04df3"
      },
      "outputs": [
        {
          "name": "stdout",
          "output_type": "stream",
          "text": [
            "[0, 0, 2, 1, 6, 0, 2]\n"
          ]
        }
      ],
      "source": [
        "quantity_leftover = [0,0,2,1,6,0,2]\n",
        "quantity_leftover_array = np.array(quantity_leftover)\n",
        "print(quantity_leftover)"
      ]
    },
    {
      "cell_type": "code",
      "execution_count": 31,
      "metadata": {
        "colab": {
          "base_uri": "https://localhost:8080/"
        },
        "id": "LPPRwglNeB-c",
        "outputId": "996b57d1-aa26-4542-e869-5a3279bccb20"
      },
      "outputs": [
        {
          "name": "stdout",
          "output_type": "stream",
          "text": [
            "[ 0.   0.  12.   3.5 13.5  0.   4. ]\n"
          ]
        }
      ],
      "source": [
        "sold_leftover_array = quantity_leftover_array *price_array/2 #sold es la venta \n",
        "print(sold_leftover_array)"
      ]
    },
    {
      "cell_type": "code",
      "execution_count": 36,
      "metadata": {
        "colab": {
          "base_uri": "https://localhost:8080/"
        },
        "id": "tzPBhQHYt4bu",
        "outputId": "2d2c1cb5-e623-40b3-d56a-8d78b6fb9cd8"
      },
      "outputs": [
        {
          "name": "stdout",
          "output_type": "stream",
          "text": [
            "[34.  39.  24.  17.5 27.  48.  24. ]\n"
          ]
        }
      ],
      "source": [
        "total_sold_array = sold_array + sold_leftover_array\n",
        "print(total_sold_array)"
      ]
    },
    {
      "cell_type": "code",
      "execution_count": 37,
      "metadata": {
        "colab": {
          "base_uri": "https://localhost:8080/"
        },
        "id": "UpcJQYCGugsu",
        "outputId": "c72155e0-9e18-45b4-f8fe-15701dd4600f"
      },
      "outputs": [
        {
          "name": "stdout",
          "output_type": "stream",
          "text": [
            "213.5\n"
          ]
        }
      ],
      "source": [
        "suma_total = np.sum(total_sold_array)\n",
        "print(suma_total)"
      ]
    }
  ],
  "metadata": {
    "colab": {
      "provenance": []
    },
    "kernelspec": {
      "display_name": "Python 3",
      "name": "python3"
    },
    "language_info": {
      "name": "python"
    }
  },
  "nbformat": 4,
  "nbformat_minor": 0
}
