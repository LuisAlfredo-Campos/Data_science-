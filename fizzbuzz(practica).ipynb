{
  "nbformat": 4,
  "nbformat_minor": 0,
  "metadata": {
    "colab": {
      "provenance": []
    },
    "kernelspec": {
      "name": "python3",
      "display_name": "Python 3"
    },
    "language_info": {
      "name": "python"
    }
  },
  "cells": [
    {
      "cell_type": "markdown",
      "source": [
        "EJERCIO - FIZZBUZZ\n"
      ],
      "metadata": {
        "id": "BWyCSEFCZREI"
      }
    },
    {
      "cell_type": "markdown",
      "source": [
        "Escribir un codigo que imprima los numeros del 1 al 20.Para los multiplos de tres,imprimir \"Frizz\" en lugar del numero , y para los multiplos de cinco, \"Buzz\". Para los numeros que son multiplos de tresy cinco, imprimir \"fizzBuzz\"."
      ],
      "metadata": {
        "id": "1QUohpdSZhy5"
      }
    },
    {
      "cell_type": "code",
      "source": [],
      "metadata": {
        "id": "q80DQ87LbL8p"
      },
      "execution_count": null,
      "outputs": []
    }
  ]
}