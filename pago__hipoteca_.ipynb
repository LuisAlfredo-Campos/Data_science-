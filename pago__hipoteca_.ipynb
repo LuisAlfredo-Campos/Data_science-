{
  "nbformat": 4,
  "nbformat_minor": 0,
  "metadata": {
    "colab": {
      "provenance": []
    },
    "kernelspec": {
      "name": "python3",
      "display_name": "Python 3"
    },
    "language_info": {
      "name": "python"
    }
  },
  "cells": [
    {
      "cell_type": "markdown",
      "source": [
        "Ejercicio de calculo de pago hipotecario (practica)"
      ],
      "metadata": {
        "id": "fv6JhOlPJLa5"
      }
    },
    {
      "cell_type": "markdown",
      "source": [
        "De cuanto sera el pago mensual de una hipoteca a 30 naños (30*12 =360 meses de pplazo) con un capital de 400000  dolares y un 3% TAE ( tasa de interes con comisiones incluidas ) ?"
      ],
      "metadata": {
        "id": "DJy7fwdSKeZY"
      }
    },
    {
      "cell_type": "code",
      "source": [
        "P = 400000\n",
        "r = 0.03 / 12\n",
        "n = (30*12)\n",
        "x = r*(1+r)**n\n",
        "y = ((1+r)**n)-1\n",
        "\n",
        "pago_mensual = (x/y)*P\n",
        "print(pago_mensual)\n",
        "\n"
      ],
      "metadata": {
        "colab": {
          "base_uri": "https://localhost:8080/"
        },
        "id": "P3yhl2NIJs4b",
        "outputId": "15e8451a-11f6-495c-fa9d-9d0b0d5bd54b"
      },
      "execution_count": 5,
      "outputs": [
        {
          "output_type": "stream",
          "name": "stdout",
          "text": [
            "1686.4161349178237\n"
          ]
        }
      ]
    },
    {
      "cell_type": "markdown",
      "source": [
        "Cuanto es el pago mensual si la tasa de interes en el 6 % ?(utilicen la misma duracion del plazo y el mismo principio)"
      ],
      "metadata": {
        "id": "wcIaS_BBNPXe"
      }
    },
    {
      "cell_type": "code",
      "source": [
        "P = 400000\n",
        "r = 0.06 /12 \n",
        "n = (30*12)\n",
        "x = r*(1+r)**n\n",
        "y = ((1+r)**n)-1\n",
        "\n",
        "pago_mensual =(x/y)*P\n",
        "print(pago_mensual)"
      ],
      "metadata": {
        "colab": {
          "base_uri": "https://localhost:8080/"
        },
        "id": "ORbUYbxaNlHe",
        "outputId": "a02265e2-4926-4ccb-fe77-9ff5523d6fca"
      },
      "execution_count": 6,
      "outputs": [
        {
          "output_type": "stream",
          "name": "stdout",
          "text": [
            "2398.2021006110276\n"
          ]
        }
      ]
    }
  ]
}