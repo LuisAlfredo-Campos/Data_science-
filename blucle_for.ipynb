{
  "nbformat": 4,
  "nbformat_minor": 0,
  "metadata": {
    "colab": {
      "provenance": [],
      "authorship_tag": "ABX9TyPCNkZ63GiwJFqgNFPuIgDt",
      "include_colab_link": true
    },
    "kernelspec": {
      "name": "python3",
      "display_name": "Python 3"
    },
    "language_info": {
      "name": "python"
    }
  },
  "cells": [
    {
      "cell_type": "markdown",
      "metadata": {
        "id": "view-in-github",
        "colab_type": "text"
      },
      "source": [
        "<a href=\"https://colab.research.google.com/github/LuisAlfredo-Campos/Data_science-/blob/main/blucle_for.ipynb\" target=\"_parent\"><img src=\"https://colab.research.google.com/assets/colab-badge.svg\" alt=\"Open In Colab\"/></a>"
      ]
    },
    {
      "cell_type": "markdown",
      "source": [
        "Bucle for\n",
        "\n",
        "Objetivos de aprendizaje\n",
        "\n",
        "Al final de este módulo, serán capaces de:\n",
        "\n",
        "Escribir bucles for\n",
        "Describir qué función de enumeración hace y por qué usarlo\n",
        "¿Qué son los bucles for?\n",
        "\n",
        "\n",
        "\n",
        "\n",
        "Un bucle for se usa para iterar una secuencia (lista, tupla, diccionario, cadena, etc). En la primera iteración del bucle de abajo, será igual al elemento siguiente en la lista. Por lo que la primera vez a través del bucle, x será igual a M. La próxima vez, x será igual a i, y así sucesivamente hasta que llegue al final de la cadena."
      ],
      "metadata": {
        "id": "sjLTy1ZNfwM5"
      }
    },
    {
      "cell_type": "markdown",
      "source": [],
      "metadata": {
        "id": "Gefmu-ZYhIow"
      }
    },
    {
      "cell_type": "code",
      "source": [],
      "metadata": {
        "id": "-28XNaGQhI4B"
      },
      "execution_count": null,
      "outputs": []
    },
    {
      "cell_type": "code",
      "execution_count": 1,
      "metadata": {
        "colab": {
          "base_uri": "https://localhost:8080/"
        },
        "id": "GZ0Drhprc9jH",
        "outputId": "f30b0b20-36b4-4190-8b47-f7da1b46fa6a"
      },
      "outputs": [
        {
          "output_type": "stream",
          "name": "stdout",
          "text": [
            "M\n",
            "i\n",
            "c\n",
            "h\n",
            "a\n",
            "e\n",
            "l\n"
          ]
        }
      ],
      "source": [
        "myName = \"Michael\"\n",
        "for x in myName:\n",
        "    print(x)"
      ]
    },
    {
      "cell_type": "markdown",
      "source": [
        "Los bucles for se pueden usar en un índice Los bucles for en Python pueden usar la función range() que devuelve una secuencia de números, empezando por 0 por defecto, y se incrementa en 1 (por defecto) y se detiene antes de un número específico."
      ],
      "metadata": {
        "id": "9_bQ2tC6gBjA"
      }
    },
    {
      "cell_type": "code",
      "source": [
        "list(range(0,10))\n"
      ],
      "metadata": {
        "colab": {
          "base_uri": "https://localhost:8080/"
        },
        "id": "-tcO_MJegIWO",
        "outputId": "4cdc90e6-482f-4e82-cc20-10c329de6167"
      },
      "execution_count": 2,
      "outputs": [
        {
          "output_type": "execute_result",
          "data": {
            "text/plain": [
              "[0, 1, 2, 3, 4, 5, 6, 7, 8, 9]"
            ]
          },
          "metadata": {},
          "execution_count": 2
        }
      ]
    },
    {
      "cell_type": "code",
      "source": [
        "dataScienceTools = ['Python', 'R', 'SQL', 'Git']\n",
        "for i in range(len(dataScienceTools)):\n",
        "    print(dataScienceTools[i])"
      ],
      "metadata": {
        "colab": {
          "base_uri": "https://localhost:8080/"
        },
        "id": "-YyMqMbhgQYy",
        "outputId": "3011070e-099b-45d0-d126-cc9aceed8a85"
      },
      "execution_count": 4,
      "outputs": [
        {
          "output_type": "stream",
          "name": "stdout",
          "text": [
            "Python\n",
            "R\n",
            "SQL\n",
            "Git\n"
          ]
        }
      ]
    },
    {
      "cell_type": "markdown",
      "source": [
        "¿Qué es la función de enumeración?\n",
        "\n",
        "La función de enumeración “enumerate()” devuelve una tupla que contiene un recuento para cada iteración (desde el inicio que por defecto es 0) y el valor correspondido que se obtuvo de la iteración sobre una secuencia:"
      ],
      "metadata": {
        "id": "yiFIPFX1gx7Q"
      }
    },
    {
      "cell_type": "code",
      "source": [
        "dataScienceTools = ['Python', 'R', 'SQL', 'Git']\n",
        "for index, tool in enumerate(dataScienceTools):\n",
        "    print(index,tool)"
      ],
      "metadata": {
        "colab": {
          "base_uri": "https://localhost:8080/"
        },
        "id": "F2zhxOyGgzTY",
        "outputId": "4b5a6fb9-582e-4d70-b982-bb533feb739c"
      },
      "execution_count": 5,
      "outputs": [
        {
          "output_type": "stream",
          "name": "stdout",
          "text": [
            "0 Python\n",
            "1 R\n",
            "2 SQL\n",
            "3 Git\n"
          ]
        }
      ]
    },
    {
      "cell_type": "markdown",
      "source": [
        "El código de arriba se puede ver un poco extraño, pero es algo que veremos a lo largo del curso y se considera más de Python que utilizar la función de rango. Un código de Python es un código que muestra ciertas pautas estilísticas y convencionales que son aceptadas por la comunidad de Python para promover aplicaciones unificadas, mantenibles y concisas que estén escritas de la forma que el lenguaje quiso. "
      ],
      "metadata": {
        "id": "xb62wXcUhDdJ"
      }
    }
  ]
}