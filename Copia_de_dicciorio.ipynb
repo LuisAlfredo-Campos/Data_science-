{
  "nbformat": 4,
  "nbformat_minor": 0,
  "metadata": {
    "colab": {
      "provenance": [],
      "authorship_tag": "ABX9TyP2NcBgxPL2Q2mI4IYFf4f2",
      "include_colab_link": true
    },
    "kernelspec": {
      "name": "python3",
      "display_name": "Python 3"
    },
    "language_info": {
      "name": "python"
    }
  },
  "cells": [
    {
      "cell_type": "markdown",
      "metadata": {
        "id": "view-in-github",
        "colab_type": "text"
      },
      "source": [
        "<a href=\"https://colab.research.google.com/github/LuisAlfredo-Campos/Data_science-/blob/main/Copia_de_dicciorio.ipynb\" target=\"_parent\"><img src=\"https://colab.research.google.com/assets/colab-badge.svg\" alt=\"Open In Colab\"/></a>"
      ]
    },
    {
      "cell_type": "code",
      "execution_count": null,
      "metadata": {
        "colab": {
          "base_uri": "https://localhost:8080/",
          "height": 164
        },
        "id": "cJKOKCdp-XRY",
        "outputId": "94769143-9995-4dad-d148-ab1bc25ff281"
      },
      "outputs": [
        {
          "output_type": "error",
          "ename": "NameError",
          "evalue": "ignored",
          "traceback": [
            "\u001b[0;31m---------------------------------------------------------------------------\u001b[0m",
            "\u001b[0;31mNameError\u001b[0m                                 Traceback (most recent call last)",
            "\u001b[0;32m<ipython-input-1-b098599b96fe>\u001b[0m in \u001b[0;36m<module>\u001b[0;34m\u001b[0m\n\u001b[0;32m----> 1\u001b[0;31m \u001b[0mX_train\u001b[0m\u001b[0;34m,\u001b[0m \u001b[0mX_test\u001b[0m\u001b[0;34m,\u001b[0m \u001b[0mY_train\u001b[0m\u001b[0;34m,\u001b[0m \u001b[0mY_test\u001b[0m \u001b[0;34m=\u001b[0m \u001b[0mtrain_test_split\u001b[0m\u001b[0;34m(\u001b[0m\u001b[0mdf\u001b[0m\u001b[0;34m[\u001b[0m\u001b[0mdata\u001b[0m\u001b[0;34m.\u001b[0m\u001b[0mfeature_names\u001b[0m\u001b[0;34m]\u001b[0m\u001b[0;34m,\u001b[0m \u001b[0mdf\u001b[0m\u001b[0;34m[\u001b[0m\u001b[0;34m'target'\u001b[0m\u001b[0;34m]\u001b[0m\u001b[0;34m,\u001b[0m \u001b[0mrandom_state\u001b[0m\u001b[0;34m=\u001b[0m\u001b[0;36m0\u001b[0m\u001b[0;34m)\u001b[0m\u001b[0;34m\u001b[0m\u001b[0;34m\u001b[0m\u001b[0m\n\u001b[0m",
            "\u001b[0;31mNameError\u001b[0m: name 'train_test_split' is not defined"
          ]
        }
      ],
      "source": [
        "X_train, X_test, Y_train, Y_test = train_test_split(df[data.feature_names], df['target'], random_state=0)"
      ]
    },
    {
      "cell_type": "code",
      "source": [
        "\n",
        "friends = ('Steve', 'Rachel', 'Michael', 'Monica')\n",
        "for index, friend in enumerate(friends):\n",
        "    print(index,friend)\n",
        "\n"
      ],
      "metadata": {
        "colab": {
          "base_uri": "https://localhost:8080/"
        },
        "id": "Hdsp6jBP-ZjE",
        "outputId": "e3121b7b-974b-43f9-ec40-2e75458bc5ca"
      },
      "execution_count": null,
      "outputs": [
        {
          "output_type": "stream",
          "name": "stdout",
          "text": [
            "0 Steve\n",
            "1 Rachel\n",
            "2 Michael\n",
            "3 Monica\n"
          ]
        }
      ]
    },
    {
      "cell_type": "code",
      "source": [
        "# Define a dictionary \n",
        "# Dictionaries are written within curly brackets {}. \n",
        "webstersDict = {'person': 'a human being',\n",
        "               'marathon': 'a running race that is about 26 miles',\n",
        "               'resist': 'to remain strong against the force',\n",
        "               'run': 'to move with haste; act quickly'}\n"
      ],
      "metadata": {
        "id": "Z4baQ6z4BYkW"
      },
      "execution_count": null,
      "outputs": []
    },
    {
      "cell_type": "code",
      "source": [
        "# Failure to define a dictionary\n",
        "webstersDict = {(1, 2.0): 'tuples can be keys',\n",
        "               1: 'ints can be keys',\n",
        "              'run': 'strings can be keys', \n",
        "              ['sock', 1, 2.0]: 'lists can NOT be keys'}\n"
      ],
      "metadata": {
        "colab": {
          "base_uri": "https://localhost:8080/",
          "height": 232
        },
        "id": "6d2oinmeBde9",
        "outputId": "10d19536-266d-4a36-a1ae-cd69ea8bbc79"
      },
      "execution_count": null,
      "outputs": [
        {
          "output_type": "error",
          "ename": "TypeError",
          "evalue": "ignored",
          "traceback": [
            "\u001b[0;31m---------------------------------------------------------------------------\u001b[0m",
            "\u001b[0;31mTypeError\u001b[0m                                 Traceback (most recent call last)",
            "\u001b[0;32m<ipython-input-4-2999ec22766a>\u001b[0m in \u001b[0;36m<module>\u001b[0;34m\u001b[0m\n\u001b[1;32m      1\u001b[0m \u001b[0;31m# Failure to define a dictionary\u001b[0m\u001b[0;34m\u001b[0m\u001b[0;34m\u001b[0m\u001b[0m\n\u001b[0;32m----> 2\u001b[0;31m webstersDict = {(1, 2.0): 'tuples can be keys',\n\u001b[0m\u001b[1;32m      3\u001b[0m                \u001b[0;36m1\u001b[0m\u001b[0;34m:\u001b[0m \u001b[0;34m'ints can be keys'\u001b[0m\u001b[0;34m,\u001b[0m\u001b[0;34m\u001b[0m\u001b[0;34m\u001b[0m\u001b[0m\n\u001b[1;32m      4\u001b[0m               \u001b[0;34m'run'\u001b[0m\u001b[0;34m:\u001b[0m \u001b[0;34m'strings can be keys'\u001b[0m\u001b[0;34m,\u001b[0m\u001b[0;34m\u001b[0m\u001b[0;34m\u001b[0m\u001b[0m\n\u001b[1;32m      5\u001b[0m               ['sock', 1, 2.0]: 'lists can NOT be keys'}\n",
            "\u001b[0;31mTypeError\u001b[0m: unhashable type: 'list'"
          ]
        }
      ]
    },
    {
      "cell_type": "code",
      "source": [
        "# Get value of the 'marathon' key\n",
        "webstersDict['marathon']\n"
      ],
      "metadata": {
        "colab": {
          "base_uri": "https://localhost:8080/",
          "height": 35
        },
        "id": "yk-Bm1NNBhLb",
        "outputId": "58d2ba54-5db9-41f2-d8c2-a5fc5576a0a5"
      },
      "execution_count": null,
      "outputs": [
        {
          "output_type": "execute_result",
          "data": {
            "text/plain": [
              "'a running race that is about 26 miles'"
            ],
            "application/vnd.google.colaboratory.intrinsic+json": {
              "type": "string"
            }
          },
          "metadata": {},
          "execution_count": 5
        }
      ]
    },
    {
      "cell_type": "code",
      "source": [
        "# Try to get value for key that does not exist\n",
        "webstersDict['socks']\n"
      ],
      "metadata": {
        "colab": {
          "base_uri": "https://localhost:8080/",
          "height": 181
        },
        "id": "oBQcv67tBqfq",
        "outputId": "e858f78d-45c6-4ea6-e343-469fe7975149"
      },
      "execution_count": null,
      "outputs": [
        {
          "output_type": "error",
          "ename": "KeyError",
          "evalue": "ignored",
          "traceback": [
            "\u001b[0;31m---------------------------------------------------------------------------\u001b[0m",
            "\u001b[0;31mKeyError\u001b[0m                                  Traceback (most recent call last)",
            "\u001b[0;32m<ipython-input-6-4f216873be8d>\u001b[0m in \u001b[0;36m<module>\u001b[0;34m\u001b[0m\n\u001b[1;32m      1\u001b[0m \u001b[0;31m# Try to get value for key that does not exist\u001b[0m\u001b[0;34m\u001b[0m\u001b[0;34m\u001b[0m\u001b[0m\n\u001b[0;32m----> 2\u001b[0;31m \u001b[0mwebstersDict\u001b[0m\u001b[0;34m[\u001b[0m\u001b[0;34m'socks'\u001b[0m\u001b[0;34m]\u001b[0m\u001b[0;34m\u001b[0m\u001b[0;34m\u001b[0m\u001b[0m\n\u001b[0m",
            "\u001b[0;31mKeyError\u001b[0m: 'socks'"
          ]
        }
      ]
    },
    {
      "cell_type": "code",
      "source": [
        "# add one new key value pair to a dictionary\n",
        "webstersDict['shoe'] = 'an external covering for the human foot'\n",
        "webstersDict\n"
      ],
      "metadata": {
        "colab": {
          "base_uri": "https://localhost:8080/"
        },
        "id": "Ghr8bUmHBsqO",
        "outputId": "aac73977-9882-4610-a057-08094c5023bf"
      },
      "execution_count": null,
      "outputs": [
        {
          "output_type": "execute_result",
          "data": {
            "text/plain": [
              "{'person': 'a human being',\n",
              " 'marathon': 'a running race that is about 26 miles',\n",
              " 'resist': 'to remain strong against the force',\n",
              " 'run': 'to move with haste; act quickly',\n",
              " 'shoe': 'an external covering for the human foot'}"
            ]
          },
          "metadata": {},
          "execution_count": 9
        }
      ]
    },
    {
      "cell_type": "code",
      "source": [
        "# update the value for the 'marathon' key\n",
        "webstersDict['marathon'] = '26 mile race'\n",
        "webstersDict\n"
      ],
      "metadata": {
        "colab": {
          "base_uri": "https://localhost:8080/"
        },
        "id": "Vpkb9w0MB7UA",
        "outputId": "7e465b73-8c07-4baa-cb14-1b2537d63133"
      },
      "execution_count": null,
      "outputs": [
        {
          "output_type": "execute_result",
          "data": {
            "text/plain": [
              "{'person': 'a human being',\n",
              " 'marathon': '26 mile race',\n",
              " 'resist': 'to remain strong against the force',\n",
              " 'run': 'to move with haste; act quickly',\n",
              " 'shoe': 'an external covering for the human foot'}"
            ]
          },
          "metadata": {},
          "execution_count": 10
        }
      ]
    },
    {
      "cell_type": "code",
      "source": [
        "# Remove the key 'resist' from the dictionary\n",
        "del webstersDict['resist']\n",
        "webstersDict\n"
      ],
      "metadata": {
        "colab": {
          "base_uri": "https://localhost:8080/"
        },
        "id": "BipNLJIXCDrb",
        "outputId": "5601d84b-c004-42dd-d8af-baec6a62da59"
      },
      "execution_count": null,
      "outputs": [
        {
          "output_type": "execute_result",
          "data": {
            "text/plain": [
              "{'person': 'a human being',\n",
              " 'marathon': '26 mile race',\n",
              " 'run': 'to move with haste; act quickly',\n",
              " 'shoe': 'an external covering for the human foot'}"
            ]
          },
          "metadata": {},
          "execution_count": 11
        }
      ]
    },
    {
      "cell_type": "code",
      "source": [
        "webstersDict\n"
      ],
      "metadata": {
        "colab": {
          "base_uri": "https://localhost:8080/"
        },
        "id": "hj_G3geFCU4V",
        "outputId": "0f490916-9043-4302-a4a2-d696d8bd2768"
      },
      "execution_count": null,
      "outputs": [
        {
          "output_type": "execute_result",
          "data": {
            "text/plain": [
              "{'person': 'a human being',\n",
              " 'marathon': '26 mile race',\n",
              " 'run': 'to move with haste; act quickly',\n",
              " 'shoe': 'an external covering for the human foot'}"
            ]
          },
          "metadata": {},
          "execution_count": 12
        }
      ]
    },
    {
      "cell_type": "code",
      "source": [
        "# Using update method to add two key value pairs at once\n",
        "webstersDict.update({'ran': 'past tense of run',\n",
        "                     'shoes': 'plural of shoe'})\n",
        "webstersDict\n"
      ],
      "metadata": {
        "colab": {
          "base_uri": "https://localhost:8080/"
        },
        "id": "TrJIVTJ-CXVC",
        "outputId": "e2abb138-7263-4c1f-e7b5-4832ee68eb68"
      },
      "execution_count": null,
      "outputs": [
        {
          "output_type": "execute_result",
          "data": {
            "text/plain": [
              "{'person': 'a human being',\n",
              " 'marathon': '26 mile race',\n",
              " 'run': 'to move with haste; act quickly',\n",
              " 'shoe': 'an external covering for the human foot',\n",
              " 'ran': 'past tense of run',\n",
              " 'shoes': 'plural of shoe'}"
            ]
          },
          "metadata": {},
          "execution_count": 13
        }
      ]
    },
    {
      "cell_type": "markdown",
      "source": [
        "Método get()\n",
        "\n",
        "El método get devuelve un valor a una clave dada. Si la clave no existe, el diccionario devolverá a None por defecto."
      ],
      "metadata": {
        "id": "s1FGcVxiUihD"
      }
    },
    {
      "cell_type": "code",
      "source": [
        "# Define a dictionary\n",
        "storyCount = {'is': 100,\n",
        "              'the': 90,\n",
        "              'Michael': 12,\n",
        "              'runs': 5}\n",
        "# Since the key 'Michael' exists, it will return the value 12\n",
        "storyCount.get('Michael')"
      ],
      "metadata": {
        "colab": {
          "base_uri": "https://localhost:8080/"
        },
        "id": "chdTkBrGUYTP",
        "outputId": "b6a2d22a-6da1-4d81-d5a2-b3e7fa279e20"
      },
      "execution_count": null,
      "outputs": [
        {
          "output_type": "execute_result",
          "data": {
            "text/plain": [
              "12"
            ]
          },
          "metadata": {},
          "execution_count": 16
        }
      ]
    },
    {
      "cell_type": "markdown",
      "source": [
        "El método get es muy útil para buscar las claves que no sabes que están en el diccionario para evitar KeyErrors."
      ],
      "metadata": {
        "id": "xtMZh27-Ugq0"
      }
    },
    {
      "cell_type": "code",
      "source": [
        "print(storyCount.get('chicken'))\n"
      ],
      "metadata": {
        "colab": {
          "base_uri": "https://localhost:8080/"
        },
        "id": "-osbawyIUZ2M",
        "outputId": "cc23450e-81bc-4157-ae44-3dc4e4d3a85c"
      },
      "execution_count": null,
      "outputs": [
        {
          "output_type": "stream",
          "name": "stdout",
          "text": [
            "None\n"
          ]
        }
      ]
    },
    {
      "cell_type": "markdown",
      "source": [
        "También pueden especificar un valor por defecto para regresar a la clave que no existe."
      ],
      "metadata": {
        "id": "Jc4fJPyeVH6C"
      }
    },
    {
      "cell_type": "code",
      "source": [
        "# Make default value for key that doesn't exist 0.\n",
        "print(storyCount.get('chicken', 0) )\n"
      ],
      "metadata": {
        "colab": {
          "base_uri": "https://localhost:8080/"
        },
        "id": "UXma3n4GVHg4",
        "outputId": "1df69725-c6d3-422d-e424-e43588d3f9a8"
      },
      "execution_count": null,
      "outputs": [
        {
          "output_type": "stream",
          "name": "stdout",
          "text": [
            "0\n"
          ]
        }
      ]
    },
    {
      "cell_type": "markdown",
      "source": [
        "Método pop()\n",
        "\n",
        "El método pop elimina una clave y regresa al valor."
      ],
      "metadata": {
        "id": "fx6XP6LZXVmX"
      }
    },
    {
      "cell_type": "code",
      "source": [
        "storyCount\n"
      ],
      "metadata": {
        "colab": {
          "base_uri": "https://localhost:8080/"
        },
        "id": "0NvxfXMvXSRF",
        "outputId": "7a1ac250-42e0-4e49-c788-fde8a5a37bc3"
      },
      "execution_count": null,
      "outputs": [
        {
          "output_type": "execute_result",
          "data": {
            "text/plain": [
              "{'is': 100, 'the': 90, 'Michael': 12, 'runs': 5}"
            ]
          },
          "metadata": {},
          "execution_count": 19
        }
      ]
    },
    {
      "cell_type": "code",
      "source": [
        "storyCount.pop('the')\n"
      ],
      "metadata": {
        "colab": {
          "base_uri": "https://localhost:8080/"
        },
        "id": "234GyryFXd0-",
        "outputId": "abdff5a6-ac95-46bd-8da6-220dd6b088ad"
      },
      "execution_count": null,
      "outputs": [
        {
          "output_type": "execute_result",
          "data": {
            "text/plain": [
              "90"
            ]
          },
          "metadata": {},
          "execution_count": 20
        }
      ]
    },
    {
      "cell_type": "code",
      "source": [
        "storyCount\n"
      ],
      "metadata": {
        "colab": {
          "base_uri": "https://localhost:8080/"
        },
        "id": "b-27bU_BXjcU",
        "outputId": "066f72fc-dcd2-4140-d745-80c935db7d9e"
      },
      "execution_count": null,
      "outputs": [
        {
          "output_type": "execute_result",
          "data": {
            "text/plain": [
              "{'is': 100, 'Michael': 12, 'runs': 5}"
            ]
          },
          "metadata": {},
          "execution_count": 21
        }
      ]
    },
    {
      "cell_type": "markdown",
      "source": [
        "Método keys()\n",
        "\n",
        "El método keys regresa a las claves del diccionario como un objeto de vista del diccionario. A efectos de este curso, pueden convertir la vista de diccionario como objeto en una lista utilizando la función de lista incorporada. \n",
        "\n"
      ],
      "metadata": {
        "id": "BofvxfKYborl"
      }
    },
    {
      "cell_type": "code",
      "source": [
        "type(storyCount.keys())\n"
      ],
      "metadata": {
        "colab": {
          "base_uri": "https://localhost:8080/"
        },
        "id": "nYtOI6P3cCH0",
        "outputId": "2adcf9fc-6f6a-4c2d-94d9-1a2af50761f8"
      },
      "execution_count": null,
      "outputs": [
        {
          "output_type": "execute_result",
          "data": {
            "text/plain": [
              "dict_keys"
            ]
          },
          "metadata": {},
          "execution_count": 24
        }
      ]
    },
    {
      "cell_type": "code",
      "source": [
        "key_list = list(storyCount.keys() )\n"
      ],
      "metadata": {
        "id": "P8w1SjaHcMS5"
      },
      "execution_count": null,
      "outputs": []
    },
    {
      "cell_type": "code",
      "source": [
        "key_list\n"
      ],
      "metadata": {
        "colab": {
          "base_uri": "https://localhost:8080/"
        },
        "id": "kWCioriscPRT",
        "outputId": "1b32b78e-214a-45d3-851f-1a14a6f5c8b3"
      },
      "execution_count": null,
      "outputs": [
        {
          "output_type": "execute_result",
          "data": {
            "text/plain": [
              "['is', 'Michael', 'runs']"
            ]
          },
          "metadata": {},
          "execution_count": 26
        }
      ]
    },
    {
      "cell_type": "markdown",
      "source": [
        "Método values()\n",
        "\n",
        "El método values devuelve los valores en el diccionario."
      ],
      "metadata": {
        "id": "7sB95n7tcZ0z"
      }
    },
    {
      "cell_type": "code",
      "source": [
        "storyCount.values()\n"
      ],
      "metadata": {
        "colab": {
          "base_uri": "https://localhost:8080/"
        },
        "id": "oXom54HkcbBZ",
        "outputId": "f24730c1-a8b6-4c49-f0e2-fa8669df80d4"
      },
      "execution_count": null,
      "outputs": [
        {
          "output_type": "execute_result",
          "data": {
            "text/plain": [
              "dict_values([100, 12, 5])"
            ]
          },
          "metadata": {},
          "execution_count": 27
        }
      ]
    },
    {
      "cell_type": "markdown",
      "source": [
        "Método items()\n",
        "\n",
        "El método items devuelve el objeto de vista del diccionario. A efectos de este curso, pueden convertir la vista de diccionario como objeto en una lista utilizando la función de lista incorporada. Esto hará una lista de las tuplas de la forma (clave, valor).\n",
        "\n"
      ],
      "metadata": {
        "id": "Q0dc3Ytgcdl7"
      }
    },
    {
      "cell_type": "code",
      "source": [
        "list(webstersDict.items() )\n"
      ],
      "metadata": {
        "colab": {
          "base_uri": "https://localhost:8080/"
        },
        "id": "iWh-AYb3chK2",
        "outputId": "23293db0-3740-4656-8afa-0e673fb4cb7c"
      },
      "execution_count": null,
      "outputs": [
        {
          "output_type": "execute_result",
          "data": {
            "text/plain": [
              "[('person', 'a human being'),\n",
              " ('marathon', '26 mile race'),\n",
              " ('run', 'to move with haste; act quickly'),\n",
              " ('shoe', 'an external covering for the human foot'),\n",
              " ('ran', 'past tense of run'),\n",
              " ('shoes', 'plural of shoe')]"
            ]
          },
          "metadata": {},
          "execution_count": 28
        }
      ]
    }
  ]
}